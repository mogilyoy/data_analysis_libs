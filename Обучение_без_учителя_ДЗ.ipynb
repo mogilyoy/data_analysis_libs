{
  "nbformat": 4,
  "nbformat_minor": 0,
  "metadata": {
    "colab": {
      "provenance": []
    },
    "kernelspec": {
      "name": "python3",
      "display_name": "Python 3"
    },
    "language_info": {
      "name": "python"
    }
  },
  "cells": [
    {
      "cell_type": "markdown",
      "source": [
        "## Тема “Обучение без учителя”\n"
      ],
      "metadata": {
        "id": "dmav4bhNVtec"
      }
    },
    {
      "cell_type": "markdown",
      "source": [
        "**Задание 1**\n",
        "\n",
        "Импортируйте библиотеки pandas, numpy и matplotlib.\n",
        "\n",
        "Загрузите \"Boston House Prices dataset\" из встроенных наборов \n",
        "данных библиотеки sklearn.Создайте датафреймы X и y из этих\n",
        " данных.\n",
        "\n",
        "Разбейте эти датафреймы на тренировочные (X_train, y_train) и тестовые (X_test, y_test)\n",
        "с помощью функции train_test_split так, чтобы размер тестовой выборки\n",
        "составлял 20% от всех данных, при этом аргумент random_state должен быть равен 42.\n",
        "\n",
        "Масштабируйте данные с помощью StandardScaler.\n",
        "\n",
        "Постройте модель TSNE на тренировочный данных с параметрами:\n",
        "n_components=2, learning_rate=250, random_state=42.\n",
        "\n",
        "Постройте диаграмму рассеяния на этих данных.\n"
      ],
      "metadata": {
        "id": "15wQUGfjWBTR"
      }
    },
    {
      "cell_type": "code",
      "execution_count": 69,
      "metadata": {
        "id": "qESuucr4VHf2"
      },
      "outputs": [],
      "source": [
        "import pandas as pd\n",
        "import numpy as np\n",
        "import matplotlib.pyplot as plt\n",
        "\n",
        "from sklearn.datasets import load_boston\n",
        "from sklearn.preprocessing import StandardScaler\n",
        "from sklearn.model_selection import train_test_split\n",
        "\n",
        "from sklearn.manifold import TSNE\n",
        "from sklearn.cluster import KMeans"
      ]
    },
    {
      "cell_type": "code",
      "source": [
        "data = load_boston()\n",
        "data"
      ],
      "metadata": {
        "colab": {
          "base_uri": "https://localhost:8080/"
        },
        "id": "uoI2SE_kbxW5",
        "outputId": "9f414ec8-06a0-45f1-f838-69f06b5f3cee"
      },
      "execution_count": 70,
      "outputs": [
        {
          "output_type": "stream",
          "name": "stderr",
          "text": [
            "/usr/local/lib/python3.8/dist-packages/sklearn/utils/deprecation.py:87: FutureWarning: Function load_boston is deprecated; `load_boston` is deprecated in 1.0 and will be removed in 1.2.\n",
            "\n",
            "    The Boston housing prices dataset has an ethical problem. You can refer to\n",
            "    the documentation of this function for further details.\n",
            "\n",
            "    The scikit-learn maintainers therefore strongly discourage the use of this\n",
            "    dataset unless the purpose of the code is to study and educate about\n",
            "    ethical issues in data science and machine learning.\n",
            "\n",
            "    In this special case, you can fetch the dataset from the original\n",
            "    source::\n",
            "\n",
            "        import pandas as pd\n",
            "        import numpy as np\n",
            "\n",
            "\n",
            "        data_url = \"http://lib.stat.cmu.edu/datasets/boston\"\n",
            "        raw_df = pd.read_csv(data_url, sep=\"\\s+\", skiprows=22, header=None)\n",
            "        data = np.hstack([raw_df.values[::2, :], raw_df.values[1::2, :2]])\n",
            "        target = raw_df.values[1::2, 2]\n",
            "\n",
            "    Alternative datasets include the California housing dataset (i.e.\n",
            "    :func:`~sklearn.datasets.fetch_california_housing`) and the Ames housing\n",
            "    dataset. You can load the datasets as follows::\n",
            "\n",
            "        from sklearn.datasets import fetch_california_housing\n",
            "        housing = fetch_california_housing()\n",
            "\n",
            "    for the California housing dataset and::\n",
            "\n",
            "        from sklearn.datasets import fetch_openml\n",
            "        housing = fetch_openml(name=\"house_prices\", as_frame=True)\n",
            "\n",
            "    for the Ames housing dataset.\n",
            "    \n",
            "  warnings.warn(msg, category=FutureWarning)\n"
          ]
        },
        {
          "output_type": "execute_result",
          "data": {
            "text/plain": [
              "{'data': array([[6.3200e-03, 1.8000e+01, 2.3100e+00, ..., 1.5300e+01, 3.9690e+02,\n",
              "         4.9800e+00],\n",
              "        [2.7310e-02, 0.0000e+00, 7.0700e+00, ..., 1.7800e+01, 3.9690e+02,\n",
              "         9.1400e+00],\n",
              "        [2.7290e-02, 0.0000e+00, 7.0700e+00, ..., 1.7800e+01, 3.9283e+02,\n",
              "         4.0300e+00],\n",
              "        ...,\n",
              "        [6.0760e-02, 0.0000e+00, 1.1930e+01, ..., 2.1000e+01, 3.9690e+02,\n",
              "         5.6400e+00],\n",
              "        [1.0959e-01, 0.0000e+00, 1.1930e+01, ..., 2.1000e+01, 3.9345e+02,\n",
              "         6.4800e+00],\n",
              "        [4.7410e-02, 0.0000e+00, 1.1930e+01, ..., 2.1000e+01, 3.9690e+02,\n",
              "         7.8800e+00]]),\n",
              " 'target': array([24. , 21.6, 34.7, 33.4, 36.2, 28.7, 22.9, 27.1, 16.5, 18.9, 15. ,\n",
              "        18.9, 21.7, 20.4, 18.2, 19.9, 23.1, 17.5, 20.2, 18.2, 13.6, 19.6,\n",
              "        15.2, 14.5, 15.6, 13.9, 16.6, 14.8, 18.4, 21. , 12.7, 14.5, 13.2,\n",
              "        13.1, 13.5, 18.9, 20. , 21. , 24.7, 30.8, 34.9, 26.6, 25.3, 24.7,\n",
              "        21.2, 19.3, 20. , 16.6, 14.4, 19.4, 19.7, 20.5, 25. , 23.4, 18.9,\n",
              "        35.4, 24.7, 31.6, 23.3, 19.6, 18.7, 16. , 22.2, 25. , 33. , 23.5,\n",
              "        19.4, 22. , 17.4, 20.9, 24.2, 21.7, 22.8, 23.4, 24.1, 21.4, 20. ,\n",
              "        20.8, 21.2, 20.3, 28. , 23.9, 24.8, 22.9, 23.9, 26.6, 22.5, 22.2,\n",
              "        23.6, 28.7, 22.6, 22. , 22.9, 25. , 20.6, 28.4, 21.4, 38.7, 43.8,\n",
              "        33.2, 27.5, 26.5, 18.6, 19.3, 20.1, 19.5, 19.5, 20.4, 19.8, 19.4,\n",
              "        21.7, 22.8, 18.8, 18.7, 18.5, 18.3, 21.2, 19.2, 20.4, 19.3, 22. ,\n",
              "        20.3, 20.5, 17.3, 18.8, 21.4, 15.7, 16.2, 18. , 14.3, 19.2, 19.6,\n",
              "        23. , 18.4, 15.6, 18.1, 17.4, 17.1, 13.3, 17.8, 14. , 14.4, 13.4,\n",
              "        15.6, 11.8, 13.8, 15.6, 14.6, 17.8, 15.4, 21.5, 19.6, 15.3, 19.4,\n",
              "        17. , 15.6, 13.1, 41.3, 24.3, 23.3, 27. , 50. , 50. , 50. , 22.7,\n",
              "        25. , 50. , 23.8, 23.8, 22.3, 17.4, 19.1, 23.1, 23.6, 22.6, 29.4,\n",
              "        23.2, 24.6, 29.9, 37.2, 39.8, 36.2, 37.9, 32.5, 26.4, 29.6, 50. ,\n",
              "        32. , 29.8, 34.9, 37. , 30.5, 36.4, 31.1, 29.1, 50. , 33.3, 30.3,\n",
              "        34.6, 34.9, 32.9, 24.1, 42.3, 48.5, 50. , 22.6, 24.4, 22.5, 24.4,\n",
              "        20. , 21.7, 19.3, 22.4, 28.1, 23.7, 25. , 23.3, 28.7, 21.5, 23. ,\n",
              "        26.7, 21.7, 27.5, 30.1, 44.8, 50. , 37.6, 31.6, 46.7, 31.5, 24.3,\n",
              "        31.7, 41.7, 48.3, 29. , 24. , 25.1, 31.5, 23.7, 23.3, 22. , 20.1,\n",
              "        22.2, 23.7, 17.6, 18.5, 24.3, 20.5, 24.5, 26.2, 24.4, 24.8, 29.6,\n",
              "        42.8, 21.9, 20.9, 44. , 50. , 36. , 30.1, 33.8, 43.1, 48.8, 31. ,\n",
              "        36.5, 22.8, 30.7, 50. , 43.5, 20.7, 21.1, 25.2, 24.4, 35.2, 32.4,\n",
              "        32. , 33.2, 33.1, 29.1, 35.1, 45.4, 35.4, 46. , 50. , 32.2, 22. ,\n",
              "        20.1, 23.2, 22.3, 24.8, 28.5, 37.3, 27.9, 23.9, 21.7, 28.6, 27.1,\n",
              "        20.3, 22.5, 29. , 24.8, 22. , 26.4, 33.1, 36.1, 28.4, 33.4, 28.2,\n",
              "        22.8, 20.3, 16.1, 22.1, 19.4, 21.6, 23.8, 16.2, 17.8, 19.8, 23.1,\n",
              "        21. , 23.8, 23.1, 20.4, 18.5, 25. , 24.6, 23. , 22.2, 19.3, 22.6,\n",
              "        19.8, 17.1, 19.4, 22.2, 20.7, 21.1, 19.5, 18.5, 20.6, 19. , 18.7,\n",
              "        32.7, 16.5, 23.9, 31.2, 17.5, 17.2, 23.1, 24.5, 26.6, 22.9, 24.1,\n",
              "        18.6, 30.1, 18.2, 20.6, 17.8, 21.7, 22.7, 22.6, 25. , 19.9, 20.8,\n",
              "        16.8, 21.9, 27.5, 21.9, 23.1, 50. , 50. , 50. , 50. , 50. , 13.8,\n",
              "        13.8, 15. , 13.9, 13.3, 13.1, 10.2, 10.4, 10.9, 11.3, 12.3,  8.8,\n",
              "         7.2, 10.5,  7.4, 10.2, 11.5, 15.1, 23.2,  9.7, 13.8, 12.7, 13.1,\n",
              "        12.5,  8.5,  5. ,  6.3,  5.6,  7.2, 12.1,  8.3,  8.5,  5. , 11.9,\n",
              "        27.9, 17.2, 27.5, 15. , 17.2, 17.9, 16.3,  7. ,  7.2,  7.5, 10.4,\n",
              "         8.8,  8.4, 16.7, 14.2, 20.8, 13.4, 11.7,  8.3, 10.2, 10.9, 11. ,\n",
              "         9.5, 14.5, 14.1, 16.1, 14.3, 11.7, 13.4,  9.6,  8.7,  8.4, 12.8,\n",
              "        10.5, 17.1, 18.4, 15.4, 10.8, 11.8, 14.9, 12.6, 14.1, 13. , 13.4,\n",
              "        15.2, 16.1, 17.8, 14.9, 14.1, 12.7, 13.5, 14.9, 20. , 16.4, 17.7,\n",
              "        19.5, 20.2, 21.4, 19.9, 19. , 19.1, 19.1, 20.1, 19.9, 19.6, 23.2,\n",
              "        29.8, 13.8, 13.3, 16.7, 12. , 14.6, 21.4, 23. , 23.7, 25. , 21.8,\n",
              "        20.6, 21.2, 19.1, 20.6, 15.2,  7. ,  8.1, 13.6, 20.1, 21.8, 24.5,\n",
              "        23.1, 19.7, 18.3, 21.2, 17.5, 16.8, 22.4, 20.6, 23.9, 22. , 11.9]),\n",
              " 'feature_names': array(['CRIM', 'ZN', 'INDUS', 'CHAS', 'NOX', 'RM', 'AGE', 'DIS', 'RAD',\n",
              "        'TAX', 'PTRATIO', 'B', 'LSTAT'], dtype='<U7'),\n",
              " 'DESCR': \".. _boston_dataset:\\n\\nBoston house prices dataset\\n---------------------------\\n\\n**Data Set Characteristics:**  \\n\\n    :Number of Instances: 506 \\n\\n    :Number of Attributes: 13 numeric/categorical predictive. Median Value (attribute 14) is usually the target.\\n\\n    :Attribute Information (in order):\\n        - CRIM     per capita crime rate by town\\n        - ZN       proportion of residential land zoned for lots over 25,000 sq.ft.\\n        - INDUS    proportion of non-retail business acres per town\\n        - CHAS     Charles River dummy variable (= 1 if tract bounds river; 0 otherwise)\\n        - NOX      nitric oxides concentration (parts per 10 million)\\n        - RM       average number of rooms per dwelling\\n        - AGE      proportion of owner-occupied units built prior to 1940\\n        - DIS      weighted distances to five Boston employment centres\\n        - RAD      index of accessibility to radial highways\\n        - TAX      full-value property-tax rate per $10,000\\n        - PTRATIO  pupil-teacher ratio by town\\n        - B        1000(Bk - 0.63)^2 where Bk is the proportion of black people by town\\n        - LSTAT    % lower status of the population\\n        - MEDV     Median value of owner-occupied homes in $1000's\\n\\n    :Missing Attribute Values: None\\n\\n    :Creator: Harrison, D. and Rubinfeld, D.L.\\n\\nThis is a copy of UCI ML housing dataset.\\nhttps://archive.ics.uci.edu/ml/machine-learning-databases/housing/\\n\\n\\nThis dataset was taken from the StatLib library which is maintained at Carnegie Mellon University.\\n\\nThe Boston house-price data of Harrison, D. and Rubinfeld, D.L. 'Hedonic\\nprices and the demand for clean air', J. Environ. Economics & Management,\\nvol.5, 81-102, 1978.   Used in Belsley, Kuh & Welsch, 'Regression diagnostics\\n...', Wiley, 1980.   N.B. Various transformations are used in the table on\\npages 244-261 of the latter.\\n\\nThe Boston house-price data has been used in many machine learning papers that address regression\\nproblems.   \\n     \\n.. topic:: References\\n\\n   - Belsley, Kuh & Welsch, 'Regression diagnostics: Identifying Influential Data and Sources of Collinearity', Wiley, 1980. 244-261.\\n   - Quinlan,R. (1993). Combining Instance-Based and Model-Based Learning. In Proceedings on the Tenth International Conference of Machine Learning, 236-243, University of Massachusetts, Amherst. Morgan Kaufmann.\\n\",\n",
              " 'filename': 'boston_house_prices.csv',\n",
              " 'data_module': 'sklearn.datasets.data'}"
            ]
          },
          "metadata": {},
          "execution_count": 70
        }
      ]
    },
    {
      "cell_type": "code",
      "source": [
        "x = pd.DataFrame(data.data, columns=data.feature_names)\n",
        "y = pd.Series(data.target, name='Price')\n",
        "x.head()"
      ],
      "metadata": {
        "colab": {
          "base_uri": "https://localhost:8080/",
          "height": 250
        },
        "id": "J7hgNKJtb0sZ",
        "outputId": "a7dc49cf-3b32-4d1f-b2a1-534ae3912707"
      },
      "execution_count": 71,
      "outputs": [
        {
          "output_type": "execute_result",
          "data": {
            "text/plain": [
              "      CRIM    ZN  INDUS  CHAS    NOX     RM   AGE     DIS  RAD    TAX  \\\n",
              "0  0.00632  18.0   2.31   0.0  0.538  6.575  65.2  4.0900  1.0  296.0   \n",
              "1  0.02731   0.0   7.07   0.0  0.469  6.421  78.9  4.9671  2.0  242.0   \n",
              "2  0.02729   0.0   7.07   0.0  0.469  7.185  61.1  4.9671  2.0  242.0   \n",
              "3  0.03237   0.0   2.18   0.0  0.458  6.998  45.8  6.0622  3.0  222.0   \n",
              "4  0.06905   0.0   2.18   0.0  0.458  7.147  54.2  6.0622  3.0  222.0   \n",
              "\n",
              "   PTRATIO       B  LSTAT  \n",
              "0     15.3  396.90   4.98  \n",
              "1     17.8  396.90   9.14  \n",
              "2     17.8  392.83   4.03  \n",
              "3     18.7  394.63   2.94  \n",
              "4     18.7  396.90   5.33  "
            ],
            "text/html": [
              "\n",
              "  <div id=\"df-8aedd801-5855-40ea-aab6-aa02cd8e4993\">\n",
              "    <div class=\"colab-df-container\">\n",
              "      <div>\n",
              "<style scoped>\n",
              "    .dataframe tbody tr th:only-of-type {\n",
              "        vertical-align: middle;\n",
              "    }\n",
              "\n",
              "    .dataframe tbody tr th {\n",
              "        vertical-align: top;\n",
              "    }\n",
              "\n",
              "    .dataframe thead th {\n",
              "        text-align: right;\n",
              "    }\n",
              "</style>\n",
              "<table border=\"1\" class=\"dataframe\">\n",
              "  <thead>\n",
              "    <tr style=\"text-align: right;\">\n",
              "      <th></th>\n",
              "      <th>CRIM</th>\n",
              "      <th>ZN</th>\n",
              "      <th>INDUS</th>\n",
              "      <th>CHAS</th>\n",
              "      <th>NOX</th>\n",
              "      <th>RM</th>\n",
              "      <th>AGE</th>\n",
              "      <th>DIS</th>\n",
              "      <th>RAD</th>\n",
              "      <th>TAX</th>\n",
              "      <th>PTRATIO</th>\n",
              "      <th>B</th>\n",
              "      <th>LSTAT</th>\n",
              "    </tr>\n",
              "  </thead>\n",
              "  <tbody>\n",
              "    <tr>\n",
              "      <th>0</th>\n",
              "      <td>0.00632</td>\n",
              "      <td>18.0</td>\n",
              "      <td>2.31</td>\n",
              "      <td>0.0</td>\n",
              "      <td>0.538</td>\n",
              "      <td>6.575</td>\n",
              "      <td>65.2</td>\n",
              "      <td>4.0900</td>\n",
              "      <td>1.0</td>\n",
              "      <td>296.0</td>\n",
              "      <td>15.3</td>\n",
              "      <td>396.90</td>\n",
              "      <td>4.98</td>\n",
              "    </tr>\n",
              "    <tr>\n",
              "      <th>1</th>\n",
              "      <td>0.02731</td>\n",
              "      <td>0.0</td>\n",
              "      <td>7.07</td>\n",
              "      <td>0.0</td>\n",
              "      <td>0.469</td>\n",
              "      <td>6.421</td>\n",
              "      <td>78.9</td>\n",
              "      <td>4.9671</td>\n",
              "      <td>2.0</td>\n",
              "      <td>242.0</td>\n",
              "      <td>17.8</td>\n",
              "      <td>396.90</td>\n",
              "      <td>9.14</td>\n",
              "    </tr>\n",
              "    <tr>\n",
              "      <th>2</th>\n",
              "      <td>0.02729</td>\n",
              "      <td>0.0</td>\n",
              "      <td>7.07</td>\n",
              "      <td>0.0</td>\n",
              "      <td>0.469</td>\n",
              "      <td>7.185</td>\n",
              "      <td>61.1</td>\n",
              "      <td>4.9671</td>\n",
              "      <td>2.0</td>\n",
              "      <td>242.0</td>\n",
              "      <td>17.8</td>\n",
              "      <td>392.83</td>\n",
              "      <td>4.03</td>\n",
              "    </tr>\n",
              "    <tr>\n",
              "      <th>3</th>\n",
              "      <td>0.03237</td>\n",
              "      <td>0.0</td>\n",
              "      <td>2.18</td>\n",
              "      <td>0.0</td>\n",
              "      <td>0.458</td>\n",
              "      <td>6.998</td>\n",
              "      <td>45.8</td>\n",
              "      <td>6.0622</td>\n",
              "      <td>3.0</td>\n",
              "      <td>222.0</td>\n",
              "      <td>18.7</td>\n",
              "      <td>394.63</td>\n",
              "      <td>2.94</td>\n",
              "    </tr>\n",
              "    <tr>\n",
              "      <th>4</th>\n",
              "      <td>0.06905</td>\n",
              "      <td>0.0</td>\n",
              "      <td>2.18</td>\n",
              "      <td>0.0</td>\n",
              "      <td>0.458</td>\n",
              "      <td>7.147</td>\n",
              "      <td>54.2</td>\n",
              "      <td>6.0622</td>\n",
              "      <td>3.0</td>\n",
              "      <td>222.0</td>\n",
              "      <td>18.7</td>\n",
              "      <td>396.90</td>\n",
              "      <td>5.33</td>\n",
              "    </tr>\n",
              "  </tbody>\n",
              "</table>\n",
              "</div>\n",
              "      <button class=\"colab-df-convert\" onclick=\"convertToInteractive('df-8aedd801-5855-40ea-aab6-aa02cd8e4993')\"\n",
              "              title=\"Convert this dataframe to an interactive table.\"\n",
              "              style=\"display:none;\">\n",
              "        \n",
              "  <svg xmlns=\"http://www.w3.org/2000/svg\" height=\"24px\"viewBox=\"0 0 24 24\"\n",
              "       width=\"24px\">\n",
              "    <path d=\"M0 0h24v24H0V0z\" fill=\"none\"/>\n",
              "    <path d=\"M18.56 5.44l.94 2.06.94-2.06 2.06-.94-2.06-.94-.94-2.06-.94 2.06-2.06.94zm-11 1L8.5 8.5l.94-2.06 2.06-.94-2.06-.94L8.5 2.5l-.94 2.06-2.06.94zm10 10l.94 2.06.94-2.06 2.06-.94-2.06-.94-.94-2.06-.94 2.06-2.06.94z\"/><path d=\"M17.41 7.96l-1.37-1.37c-.4-.4-.92-.59-1.43-.59-.52 0-1.04.2-1.43.59L10.3 9.45l-7.72 7.72c-.78.78-.78 2.05 0 2.83L4 21.41c.39.39.9.59 1.41.59.51 0 1.02-.2 1.41-.59l7.78-7.78 2.81-2.81c.8-.78.8-2.07 0-2.86zM5.41 20L4 18.59l7.72-7.72 1.47 1.35L5.41 20z\"/>\n",
              "  </svg>\n",
              "      </button>\n",
              "      \n",
              "  <style>\n",
              "    .colab-df-container {\n",
              "      display:flex;\n",
              "      flex-wrap:wrap;\n",
              "      gap: 12px;\n",
              "    }\n",
              "\n",
              "    .colab-df-convert {\n",
              "      background-color: #E8F0FE;\n",
              "      border: none;\n",
              "      border-radius: 50%;\n",
              "      cursor: pointer;\n",
              "      display: none;\n",
              "      fill: #1967D2;\n",
              "      height: 32px;\n",
              "      padding: 0 0 0 0;\n",
              "      width: 32px;\n",
              "    }\n",
              "\n",
              "    .colab-df-convert:hover {\n",
              "      background-color: #E2EBFA;\n",
              "      box-shadow: 0px 1px 2px rgba(60, 64, 67, 0.3), 0px 1px 3px 1px rgba(60, 64, 67, 0.15);\n",
              "      fill: #174EA6;\n",
              "    }\n",
              "\n",
              "    [theme=dark] .colab-df-convert {\n",
              "      background-color: #3B4455;\n",
              "      fill: #D2E3FC;\n",
              "    }\n",
              "\n",
              "    [theme=dark] .colab-df-convert:hover {\n",
              "      background-color: #434B5C;\n",
              "      box-shadow: 0px 1px 3px 1px rgba(0, 0, 0, 0.15);\n",
              "      filter: drop-shadow(0px 1px 2px rgba(0, 0, 0, 0.3));\n",
              "      fill: #FFFFFF;\n",
              "    }\n",
              "  </style>\n",
              "\n",
              "      <script>\n",
              "        const buttonEl =\n",
              "          document.querySelector('#df-8aedd801-5855-40ea-aab6-aa02cd8e4993 button.colab-df-convert');\n",
              "        buttonEl.style.display =\n",
              "          google.colab.kernel.accessAllowed ? 'block' : 'none';\n",
              "\n",
              "        async function convertToInteractive(key) {\n",
              "          const element = document.querySelector('#df-8aedd801-5855-40ea-aab6-aa02cd8e4993');\n",
              "          const dataTable =\n",
              "            await google.colab.kernel.invokeFunction('convertToInteractive',\n",
              "                                                     [key], {});\n",
              "          if (!dataTable) return;\n",
              "\n",
              "          const docLinkHtml = 'Like what you see? Visit the ' +\n",
              "            '<a target=\"_blank\" href=https://colab.research.google.com/notebooks/data_table.ipynb>data table notebook</a>'\n",
              "            + ' to learn more about interactive tables.';\n",
              "          element.innerHTML = '';\n",
              "          dataTable['output_type'] = 'display_data';\n",
              "          await google.colab.output.renderOutput(dataTable, element);\n",
              "          const docLink = document.createElement('div');\n",
              "          docLink.innerHTML = docLinkHtml;\n",
              "          element.appendChild(docLink);\n",
              "        }\n",
              "      </script>\n",
              "    </div>\n",
              "  </div>\n",
              "  "
            ]
          },
          "metadata": {},
          "execution_count": 71
        }
      ]
    },
    {
      "cell_type": "code",
      "source": [
        "y.head()"
      ],
      "metadata": {
        "colab": {
          "base_uri": "https://localhost:8080/"
        },
        "id": "7R3-SRsccco2",
        "outputId": "7560f317-5349-4d8d-b18f-21c356f7c015"
      },
      "execution_count": 72,
      "outputs": [
        {
          "output_type": "execute_result",
          "data": {
            "text/plain": [
              "0    24.0\n",
              "1    21.6\n",
              "2    34.7\n",
              "3    33.4\n",
              "4    36.2\n",
              "Name: Price, dtype: float64"
            ]
          },
          "metadata": {},
          "execution_count": 72
        }
      ]
    },
    {
      "cell_type": "code",
      "source": [
        "x.info()"
      ],
      "metadata": {
        "colab": {
          "base_uri": "https://localhost:8080/"
        },
        "id": "SoUSYiRFcfb_",
        "outputId": "585c4217-ff1e-4e71-b22a-d183685b0231"
      },
      "execution_count": 73,
      "outputs": [
        {
          "output_type": "stream",
          "name": "stdout",
          "text": [
            "<class 'pandas.core.frame.DataFrame'>\n",
            "RangeIndex: 506 entries, 0 to 505\n",
            "Data columns (total 13 columns):\n",
            " #   Column   Non-Null Count  Dtype  \n",
            "---  ------   --------------  -----  \n",
            " 0   CRIM     506 non-null    float64\n",
            " 1   ZN       506 non-null    float64\n",
            " 2   INDUS    506 non-null    float64\n",
            " 3   CHAS     506 non-null    float64\n",
            " 4   NOX      506 non-null    float64\n",
            " 5   RM       506 non-null    float64\n",
            " 6   AGE      506 non-null    float64\n",
            " 7   DIS      506 non-null    float64\n",
            " 8   RAD      506 non-null    float64\n",
            " 9   TAX      506 non-null    float64\n",
            " 10  PTRATIO  506 non-null    float64\n",
            " 11  B        506 non-null    float64\n",
            " 12  LSTAT    506 non-null    float64\n",
            "dtypes: float64(13)\n",
            "memory usage: 51.5 KB\n"
          ]
        }
      ]
    },
    {
      "cell_type": "code",
      "source": [
        "x.describe()"
      ],
      "metadata": {
        "colab": {
          "base_uri": "https://localhost:8080/",
          "height": 364
        },
        "id": "Rdzrfhxhck0m",
        "outputId": "30c47e74-61b8-4b57-901d-662ca87b9325"
      },
      "execution_count": 74,
      "outputs": [
        {
          "output_type": "execute_result",
          "data": {
            "text/plain": [
              "             CRIM          ZN       INDUS        CHAS         NOX          RM  \\\n",
              "count  506.000000  506.000000  506.000000  506.000000  506.000000  506.000000   \n",
              "mean     3.613524   11.363636   11.136779    0.069170    0.554695    6.284634   \n",
              "std      8.601545   23.322453    6.860353    0.253994    0.115878    0.702617   \n",
              "min      0.006320    0.000000    0.460000    0.000000    0.385000    3.561000   \n",
              "25%      0.082045    0.000000    5.190000    0.000000    0.449000    5.885500   \n",
              "50%      0.256510    0.000000    9.690000    0.000000    0.538000    6.208500   \n",
              "75%      3.677083   12.500000   18.100000    0.000000    0.624000    6.623500   \n",
              "max     88.976200  100.000000   27.740000    1.000000    0.871000    8.780000   \n",
              "\n",
              "              AGE         DIS         RAD         TAX     PTRATIO           B  \\\n",
              "count  506.000000  506.000000  506.000000  506.000000  506.000000  506.000000   \n",
              "mean    68.574901    3.795043    9.549407  408.237154   18.455534  356.674032   \n",
              "std     28.148861    2.105710    8.707259  168.537116    2.164946   91.294864   \n",
              "min      2.900000    1.129600    1.000000  187.000000   12.600000    0.320000   \n",
              "25%     45.025000    2.100175    4.000000  279.000000   17.400000  375.377500   \n",
              "50%     77.500000    3.207450    5.000000  330.000000   19.050000  391.440000   \n",
              "75%     94.075000    5.188425   24.000000  666.000000   20.200000  396.225000   \n",
              "max    100.000000   12.126500   24.000000  711.000000   22.000000  396.900000   \n",
              "\n",
              "            LSTAT  \n",
              "count  506.000000  \n",
              "mean    12.653063  \n",
              "std      7.141062  \n",
              "min      1.730000  \n",
              "25%      6.950000  \n",
              "50%     11.360000  \n",
              "75%     16.955000  \n",
              "max     37.970000  "
            ],
            "text/html": [
              "\n",
              "  <div id=\"df-12d7b39c-1b92-46a5-b1aa-b5b09cce60bf\">\n",
              "    <div class=\"colab-df-container\">\n",
              "      <div>\n",
              "<style scoped>\n",
              "    .dataframe tbody tr th:only-of-type {\n",
              "        vertical-align: middle;\n",
              "    }\n",
              "\n",
              "    .dataframe tbody tr th {\n",
              "        vertical-align: top;\n",
              "    }\n",
              "\n",
              "    .dataframe thead th {\n",
              "        text-align: right;\n",
              "    }\n",
              "</style>\n",
              "<table border=\"1\" class=\"dataframe\">\n",
              "  <thead>\n",
              "    <tr style=\"text-align: right;\">\n",
              "      <th></th>\n",
              "      <th>CRIM</th>\n",
              "      <th>ZN</th>\n",
              "      <th>INDUS</th>\n",
              "      <th>CHAS</th>\n",
              "      <th>NOX</th>\n",
              "      <th>RM</th>\n",
              "      <th>AGE</th>\n",
              "      <th>DIS</th>\n",
              "      <th>RAD</th>\n",
              "      <th>TAX</th>\n",
              "      <th>PTRATIO</th>\n",
              "      <th>B</th>\n",
              "      <th>LSTAT</th>\n",
              "    </tr>\n",
              "  </thead>\n",
              "  <tbody>\n",
              "    <tr>\n",
              "      <th>count</th>\n",
              "      <td>506.000000</td>\n",
              "      <td>506.000000</td>\n",
              "      <td>506.000000</td>\n",
              "      <td>506.000000</td>\n",
              "      <td>506.000000</td>\n",
              "      <td>506.000000</td>\n",
              "      <td>506.000000</td>\n",
              "      <td>506.000000</td>\n",
              "      <td>506.000000</td>\n",
              "      <td>506.000000</td>\n",
              "      <td>506.000000</td>\n",
              "      <td>506.000000</td>\n",
              "      <td>506.000000</td>\n",
              "    </tr>\n",
              "    <tr>\n",
              "      <th>mean</th>\n",
              "      <td>3.613524</td>\n",
              "      <td>11.363636</td>\n",
              "      <td>11.136779</td>\n",
              "      <td>0.069170</td>\n",
              "      <td>0.554695</td>\n",
              "      <td>6.284634</td>\n",
              "      <td>68.574901</td>\n",
              "      <td>3.795043</td>\n",
              "      <td>9.549407</td>\n",
              "      <td>408.237154</td>\n",
              "      <td>18.455534</td>\n",
              "      <td>356.674032</td>\n",
              "      <td>12.653063</td>\n",
              "    </tr>\n",
              "    <tr>\n",
              "      <th>std</th>\n",
              "      <td>8.601545</td>\n",
              "      <td>23.322453</td>\n",
              "      <td>6.860353</td>\n",
              "      <td>0.253994</td>\n",
              "      <td>0.115878</td>\n",
              "      <td>0.702617</td>\n",
              "      <td>28.148861</td>\n",
              "      <td>2.105710</td>\n",
              "      <td>8.707259</td>\n",
              "      <td>168.537116</td>\n",
              "      <td>2.164946</td>\n",
              "      <td>91.294864</td>\n",
              "      <td>7.141062</td>\n",
              "    </tr>\n",
              "    <tr>\n",
              "      <th>min</th>\n",
              "      <td>0.006320</td>\n",
              "      <td>0.000000</td>\n",
              "      <td>0.460000</td>\n",
              "      <td>0.000000</td>\n",
              "      <td>0.385000</td>\n",
              "      <td>3.561000</td>\n",
              "      <td>2.900000</td>\n",
              "      <td>1.129600</td>\n",
              "      <td>1.000000</td>\n",
              "      <td>187.000000</td>\n",
              "      <td>12.600000</td>\n",
              "      <td>0.320000</td>\n",
              "      <td>1.730000</td>\n",
              "    </tr>\n",
              "    <tr>\n",
              "      <th>25%</th>\n",
              "      <td>0.082045</td>\n",
              "      <td>0.000000</td>\n",
              "      <td>5.190000</td>\n",
              "      <td>0.000000</td>\n",
              "      <td>0.449000</td>\n",
              "      <td>5.885500</td>\n",
              "      <td>45.025000</td>\n",
              "      <td>2.100175</td>\n",
              "      <td>4.000000</td>\n",
              "      <td>279.000000</td>\n",
              "      <td>17.400000</td>\n",
              "      <td>375.377500</td>\n",
              "      <td>6.950000</td>\n",
              "    </tr>\n",
              "    <tr>\n",
              "      <th>50%</th>\n",
              "      <td>0.256510</td>\n",
              "      <td>0.000000</td>\n",
              "      <td>9.690000</td>\n",
              "      <td>0.000000</td>\n",
              "      <td>0.538000</td>\n",
              "      <td>6.208500</td>\n",
              "      <td>77.500000</td>\n",
              "      <td>3.207450</td>\n",
              "      <td>5.000000</td>\n",
              "      <td>330.000000</td>\n",
              "      <td>19.050000</td>\n",
              "      <td>391.440000</td>\n",
              "      <td>11.360000</td>\n",
              "    </tr>\n",
              "    <tr>\n",
              "      <th>75%</th>\n",
              "      <td>3.677083</td>\n",
              "      <td>12.500000</td>\n",
              "      <td>18.100000</td>\n",
              "      <td>0.000000</td>\n",
              "      <td>0.624000</td>\n",
              "      <td>6.623500</td>\n",
              "      <td>94.075000</td>\n",
              "      <td>5.188425</td>\n",
              "      <td>24.000000</td>\n",
              "      <td>666.000000</td>\n",
              "      <td>20.200000</td>\n",
              "      <td>396.225000</td>\n",
              "      <td>16.955000</td>\n",
              "    </tr>\n",
              "    <tr>\n",
              "      <th>max</th>\n",
              "      <td>88.976200</td>\n",
              "      <td>100.000000</td>\n",
              "      <td>27.740000</td>\n",
              "      <td>1.000000</td>\n",
              "      <td>0.871000</td>\n",
              "      <td>8.780000</td>\n",
              "      <td>100.000000</td>\n",
              "      <td>12.126500</td>\n",
              "      <td>24.000000</td>\n",
              "      <td>711.000000</td>\n",
              "      <td>22.000000</td>\n",
              "      <td>396.900000</td>\n",
              "      <td>37.970000</td>\n",
              "    </tr>\n",
              "  </tbody>\n",
              "</table>\n",
              "</div>\n",
              "      <button class=\"colab-df-convert\" onclick=\"convertToInteractive('df-12d7b39c-1b92-46a5-b1aa-b5b09cce60bf')\"\n",
              "              title=\"Convert this dataframe to an interactive table.\"\n",
              "              style=\"display:none;\">\n",
              "        \n",
              "  <svg xmlns=\"http://www.w3.org/2000/svg\" height=\"24px\"viewBox=\"0 0 24 24\"\n",
              "       width=\"24px\">\n",
              "    <path d=\"M0 0h24v24H0V0z\" fill=\"none\"/>\n",
              "    <path d=\"M18.56 5.44l.94 2.06.94-2.06 2.06-.94-2.06-.94-.94-2.06-.94 2.06-2.06.94zm-11 1L8.5 8.5l.94-2.06 2.06-.94-2.06-.94L8.5 2.5l-.94 2.06-2.06.94zm10 10l.94 2.06.94-2.06 2.06-.94-2.06-.94-.94-2.06-.94 2.06-2.06.94z\"/><path d=\"M17.41 7.96l-1.37-1.37c-.4-.4-.92-.59-1.43-.59-.52 0-1.04.2-1.43.59L10.3 9.45l-7.72 7.72c-.78.78-.78 2.05 0 2.83L4 21.41c.39.39.9.59 1.41.59.51 0 1.02-.2 1.41-.59l7.78-7.78 2.81-2.81c.8-.78.8-2.07 0-2.86zM5.41 20L4 18.59l7.72-7.72 1.47 1.35L5.41 20z\"/>\n",
              "  </svg>\n",
              "      </button>\n",
              "      \n",
              "  <style>\n",
              "    .colab-df-container {\n",
              "      display:flex;\n",
              "      flex-wrap:wrap;\n",
              "      gap: 12px;\n",
              "    }\n",
              "\n",
              "    .colab-df-convert {\n",
              "      background-color: #E8F0FE;\n",
              "      border: none;\n",
              "      border-radius: 50%;\n",
              "      cursor: pointer;\n",
              "      display: none;\n",
              "      fill: #1967D2;\n",
              "      height: 32px;\n",
              "      padding: 0 0 0 0;\n",
              "      width: 32px;\n",
              "    }\n",
              "\n",
              "    .colab-df-convert:hover {\n",
              "      background-color: #E2EBFA;\n",
              "      box-shadow: 0px 1px 2px rgba(60, 64, 67, 0.3), 0px 1px 3px 1px rgba(60, 64, 67, 0.15);\n",
              "      fill: #174EA6;\n",
              "    }\n",
              "\n",
              "    [theme=dark] .colab-df-convert {\n",
              "      background-color: #3B4455;\n",
              "      fill: #D2E3FC;\n",
              "    }\n",
              "\n",
              "    [theme=dark] .colab-df-convert:hover {\n",
              "      background-color: #434B5C;\n",
              "      box-shadow: 0px 1px 3px 1px rgba(0, 0, 0, 0.15);\n",
              "      filter: drop-shadow(0px 1px 2px rgba(0, 0, 0, 0.3));\n",
              "      fill: #FFFFFF;\n",
              "    }\n",
              "  </style>\n",
              "\n",
              "      <script>\n",
              "        const buttonEl =\n",
              "          document.querySelector('#df-12d7b39c-1b92-46a5-b1aa-b5b09cce60bf button.colab-df-convert');\n",
              "        buttonEl.style.display =\n",
              "          google.colab.kernel.accessAllowed ? 'block' : 'none';\n",
              "\n",
              "        async function convertToInteractive(key) {\n",
              "          const element = document.querySelector('#df-12d7b39c-1b92-46a5-b1aa-b5b09cce60bf');\n",
              "          const dataTable =\n",
              "            await google.colab.kernel.invokeFunction('convertToInteractive',\n",
              "                                                     [key], {});\n",
              "          if (!dataTable) return;\n",
              "\n",
              "          const docLinkHtml = 'Like what you see? Visit the ' +\n",
              "            '<a target=\"_blank\" href=https://colab.research.google.com/notebooks/data_table.ipynb>data table notebook</a>'\n",
              "            + ' to learn more about interactive tables.';\n",
              "          element.innerHTML = '';\n",
              "          dataTable['output_type'] = 'display_data';\n",
              "          await google.colab.output.renderOutput(dataTable, element);\n",
              "          const docLink = document.createElement('div');\n",
              "          docLink.innerHTML = docLinkHtml;\n",
              "          element.appendChild(docLink);\n",
              "        }\n",
              "      </script>\n",
              "    </div>\n",
              "  </div>\n",
              "  "
            ]
          },
          "metadata": {},
          "execution_count": 74
        }
      ]
    },
    {
      "cell_type": "code",
      "source": [
        "len(y)"
      ],
      "metadata": {
        "colab": {
          "base_uri": "https://localhost:8080/"
        },
        "id": "hnoYmHHpcmpK",
        "outputId": "5a3df61b-498f-4ddc-c4b0-3af9a9a68498"
      },
      "execution_count": 75,
      "outputs": [
        {
          "output_type": "execute_result",
          "data": {
            "text/plain": [
              "506"
            ]
          },
          "metadata": {},
          "execution_count": 75
        }
      ]
    },
    {
      "cell_type": "markdown",
      "source": [
        "В данных нет пропусков и выбросов"
      ],
      "metadata": {
        "id": "o0suPC45c7sw"
      }
    },
    {
      "cell_type": "code",
      "source": [
        "x_train, x_test, y_train, y_test = train_test_split(x, y, test_size=0.2, random_state=42)"
      ],
      "metadata": {
        "id": "AlR3wM4tcuY-"
      },
      "execution_count": 76,
      "outputs": []
    },
    {
      "cell_type": "markdown",
      "source": [
        "Стандартизируем наши данные"
      ],
      "metadata": {
        "id": "Pu4eyyYClxXB"
      }
    },
    {
      "cell_type": "code",
      "source": [
        "scaler = StandardScaler()"
      ],
      "metadata": {
        "id": "7Gb81Il3c40r"
      },
      "execution_count": 77,
      "outputs": []
    },
    {
      "cell_type": "code",
      "source": [
        "x_train = scaler.fit_transform(x_train)\n",
        "x_test = scaler.transform(x_test)"
      ],
      "metadata": {
        "id": "0A7p4uiuevok"
      },
      "execution_count": 78,
      "outputs": []
    },
    {
      "cell_type": "markdown",
      "source": [
        "Применим tsne для построения диаграммы рассеяния"
      ],
      "metadata": {
        "id": "cuA9WWRF709M"
      }
    },
    {
      "cell_type": "code",
      "source": [
        "tsne = TSNE(n_components=2, learning_rate=250, random_state=42)"
      ],
      "metadata": {
        "id": "Zu0OZ9zbhoQf"
      },
      "execution_count": 79,
      "outputs": []
    },
    {
      "cell_type": "code",
      "source": [
        "x_train_tsne = tsne.fit_transform(x_train)"
      ],
      "metadata": {
        "colab": {
          "base_uri": "https://localhost:8080/"
        },
        "id": "toF5Oywnhrul",
        "outputId": "3414813c-83ca-4fea-d217-8bedbe9a2da6"
      },
      "execution_count": 80,
      "outputs": [
        {
          "output_type": "stream",
          "name": "stderr",
          "text": [
            "/usr/local/lib/python3.8/dist-packages/sklearn/manifold/_t_sne.py:780: FutureWarning: The default initialization in TSNE will change from 'random' to 'pca' in 1.2.\n",
            "  warnings.warn(\n"
          ]
        }
      ]
    },
    {
      "cell_type": "code",
      "source": [
        "x_train_tsne"
      ],
      "metadata": {
        "colab": {
          "base_uri": "https://localhost:8080/"
        },
        "id": "MhJVrGRK8R99",
        "outputId": "d177d19d-0495-40f0-bf80-e6b7a9942714"
      },
      "execution_count": 81,
      "outputs": [
        {
          "output_type": "execute_result",
          "data": {
            "text/plain": [
              "array([[ 1.81041489e+01,  2.91841412e+01],\n",
              "       [ 3.36446118e+00, -7.90966845e+00],\n",
              "       [-2.07167511e+01, -8.94725513e+00],\n",
              "       [ 2.76545868e+01,  2.66364594e+01],\n",
              "       [ 4.35941935e+00, -7.43922949e+00],\n",
              "       [-1.18708668e+01, -3.19696522e+00],\n",
              "       [-9.88421822e+00, -3.11915612e+00],\n",
              "       [-2.67814331e+01, -1.50311155e+01],\n",
              "       [ 2.85059834e+01,  2.74729290e+01],\n",
              "       [ 2.97867966e+01,  2.44989853e+01],\n",
              "       [-1.03291616e+01, -2.70374441e+00],\n",
              "       [-6.06545353e+00, -9.15262985e+00],\n",
              "       [-5.61790419e+00, -1.35841761e+01],\n",
              "       [ 2.86210976e+01,  2.46200790e+01],\n",
              "       [-7.11505461e+00, -1.45416355e+01],\n",
              "       [ 7.49843025e+00, -8.60527611e+00],\n",
              "       [ 1.22831607e+00, -5.80473423e+00],\n",
              "       [-2.18536625e+01, -8.58939934e+00],\n",
              "       [-1.68641014e+01, -1.03258257e+01],\n",
              "       [-1.86876888e+01, -6.71250486e+00],\n",
              "       [ 2.41089859e+01,  2.88961773e+01],\n",
              "       [-7.64432192e-01, -5.37148428e+00],\n",
              "       [-1.35651073e+01, -3.63450623e+00],\n",
              "       [-8.29061127e+00, -4.92048645e+00],\n",
              "       [-2.71355915e+01, -1.48728647e+01],\n",
              "       [-6.49560738e+00, -1.29633284e+01],\n",
              "       [-7.80653834e-01,  8.48422623e+00],\n",
              "       [-8.23790169e+00, -1.67715759e+01],\n",
              "       [ 1.02396154e+01,  2.49531388e+00],\n",
              "       [-1.44194956e+01, -5.83281469e+00],\n",
              "       [ 6.59169865e+00, -6.84363413e+00],\n",
              "       [ 6.11494720e-01, -3.45529342e+00],\n",
              "       [ 4.87161779e+00,  7.60481977e+00],\n",
              "       [ 2.75124741e+01,  2.43863945e+01],\n",
              "       [-9.24988365e+00, -3.58404541e+00],\n",
              "       [-2.80623360e+01, -1.33833494e+01],\n",
              "       [-2.61315136e+01, -1.14090748e+01],\n",
              "       [ 7.12364292e+00, -7.30448866e+00],\n",
              "       [ 6.10535336e+00, -7.53799438e+00],\n",
              "       [-2.67889137e+01, -1.25255690e+01],\n",
              "       [-2.58424721e+01, -1.36566534e+01],\n",
              "       [-6.31812096e+00,  7.72002172e+00],\n",
              "       [ 2.11490955e+01,  2.90646725e+01],\n",
              "       [-2.17635775e+00, -1.05469990e+01],\n",
              "       [-1.36021125e+00,  8.78164196e+00],\n",
              "       [ 1.54267063e+01,  2.61428261e+01],\n",
              "       [ 7.94493771e+00, -7.17945623e+00],\n",
              "       [-6.24876261e+00, -1.66164227e+01],\n",
              "       [ 2.84456081e+01,  2.49979973e+01],\n",
              "       [ 1.52017212e+01,  2.53324032e+01],\n",
              "       [-1.01928596e+01, -9.24056721e+00],\n",
              "       [-4.87592697e-01, -5.43063164e+00],\n",
              "       [-1.14662485e+01, -5.83899069e+00],\n",
              "       [-8.98072815e+00, -2.50357199e+00],\n",
              "       [ 1.75200157e+01,  2.27936382e+01],\n",
              "       [ 1.32304840e+01,  2.33310318e+01],\n",
              "       [-1.04347925e+01, -9.86471748e+00],\n",
              "       [ 2.28518238e+01,  2.92933807e+01],\n",
              "       [-6.03834295e+00, -8.58561134e+00],\n",
              "       [-1.68815708e+01, -1.00389357e+01],\n",
              "       [ 3.03158426e+00, -6.15901995e+00],\n",
              "       [-7.91306353e+00, -5.49438095e+00],\n",
              "       [-7.30902135e-01, -1.70048351e+01],\n",
              "       [ 5.55774260e+00, -6.00540352e+00],\n",
              "       [-3.55710483e+00, -1.87745132e+01],\n",
              "       [ 1.67537670e+01,  2.49018230e+01],\n",
              "       [ 6.71109486e+00, -7.77947044e+00],\n",
              "       [ 4.01282102e-01, -1.20771294e+01],\n",
              "       [ 1.29516954e+01,  2.72212529e+00],\n",
              "       [ 6.46699905e+00, -4.86079597e+00],\n",
              "       [-9.09938335e+00, -5.01965857e+00],\n",
              "       [ 1.46559060e+00,  2.28546238e+00],\n",
              "       [ 1.54331093e+01,  2.19151516e+01],\n",
              "       [-3.12557817e-02, -4.33443403e+00],\n",
              "       [-7.11739123e-01, -5.86892366e+00],\n",
              "       [-8.74381161e+00, -1.13931313e+01],\n",
              "       [-2.51407051e+01, -9.80594254e+00],\n",
              "       [-1.17112837e+01, -1.10541859e+01],\n",
              "       [ 5.26972818e+00,  7.63346338e+00],\n",
              "       [ 1.82023277e+01,  3.07718468e+01],\n",
              "       [ 1.68728580e+01,  2.88935566e+01],\n",
              "       [ 8.71756172e+00,  2.13306770e+01],\n",
              "       [-1.53884506e+01, -1.71819725e+01],\n",
              "       [-5.09568739e+00,  6.36334133e+00],\n",
              "       [ 2.81606197e+01,  2.60639458e+01],\n",
              "       [ 1.41017170e+01,  1.63289535e+00],\n",
              "       [ 8.10303783e+00,  2.02791481e+01],\n",
              "       [-1.67411442e+01, -6.48489380e+00],\n",
              "       [ 1.36733770e+01,  2.45233040e+01],\n",
              "       [ 2.18448639e+00,  3.63109589e+00],\n",
              "       [ 1.22855222e+00, -4.84577417e+00],\n",
              "       [ 1.72164116e+01,  2.55087833e+01],\n",
              "       [ 1.93003864e+01,  2.80641346e+01],\n",
              "       [-2.63006039e+01, -1.12133579e+01],\n",
              "       [-1.90238762e+01, -6.66374874e+00],\n",
              "       [ 7.20830536e+00, -5.45062160e+00],\n",
              "       [ 1.42174978e+01,  2.60381012e+01],\n",
              "       [ 3.50262761e+00,  7.73514462e+00],\n",
              "       [-2.26979518e+00, -1.06432772e+01],\n",
              "       [-1.43394506e+00,  8.90888786e+00],\n",
              "       [-5.27328444e+00,  6.37833595e+00],\n",
              "       [-1.21767187e+01, -1.27157812e+01],\n",
              "       [-1.39653502e+01, -9.95910358e+00],\n",
              "       [-1.73150425e+01, -8.67310810e+00],\n",
              "       [ 2.04835796e+00,  4.14044237e+00],\n",
              "       [-3.08651900e+00,  6.38005257e+00],\n",
              "       [-2.83258820e+01, -1.41950321e+01],\n",
              "       [-5.98529530e+00, -1.42877674e+01],\n",
              "       [-1.25040045e+01, -4.18343592e+00],\n",
              "       [-3.77613401e+00, -6.82787037e+00],\n",
              "       [ 2.82744389e+01,  2.55899086e+01],\n",
              "       [-2.01173859e+01, -5.36454821e+00],\n",
              "       [ 1.62136540e-01, -4.98759413e+00],\n",
              "       [-2.85169392e+01, -1.29098749e+01],\n",
              "       [-2.24465504e+01, -8.95863533e+00],\n",
              "       [ 1.63662701e+01,  2.02982769e+01],\n",
              "       [ 8.40689373e+00,  2.11025658e+01],\n",
              "       [ 1.96711903e+01,  2.85768604e+01],\n",
              "       [-9.46353149e+00, -1.48867741e+01],\n",
              "       [-2.68730593e+00, -1.85736122e+01],\n",
              "       [-6.06021070e+00, -1.42333498e+01],\n",
              "       [ 1.95397453e+01,  3.00328617e+01],\n",
              "       [ 1.61156178e+01,  2.42216587e+01],\n",
              "       [-5.36694002e+00, -6.37096882e+00],\n",
              "       [-2.88809185e+01, -1.14621496e+01],\n",
              "       [ 1.15850048e+01,  9.18222487e-01],\n",
              "       [ 1.95519581e+01,  2.35038280e+01],\n",
              "       [-1.64943256e+01, -9.97857571e+00],\n",
              "       [-2.43900471e+01, -1.23839121e+01],\n",
              "       [ 1.88962650e+01,  2.72924061e+01],\n",
              "       [-1.68195038e+01, -8.80131721e+00],\n",
              "       [-9.03100610e-01, -6.78629923e+00],\n",
              "       [-7.57913017e+00, -1.28505459e+01],\n",
              "       [-1.69981432e+00, -1.78792095e+01],\n",
              "       [-1.67229557e+01, -1.29029961e+01],\n",
              "       [ 7.37575531e+00,  1.97421055e+01],\n",
              "       [ 5.11640072e+00, -3.32344937e+00],\n",
              "       [-2.35738449e+01, -1.01150675e+01],\n",
              "       [ 2.51132154e+00,  2.95690608e+00],\n",
              "       [ 4.11202478e+00,  5.96121359e+00],\n",
              "       [-5.35148478e+00, -1.04899702e+01],\n",
              "       [ 1.64801350e+01,  2.75560322e+01],\n",
              "       [-5.83554649e+00, -7.84973526e+00],\n",
              "       [-2.86722779e+00, -6.99045181e+00],\n",
              "       [ 4.12975580e-01, -1.20824375e+01],\n",
              "       [ 1.96335030e+01,  3.08108387e+01],\n",
              "       [ 6.76014185e+00, -5.45037794e+00],\n",
              "       [-1.29979458e+01, -1.05308256e+01],\n",
              "       [-9.77973366e+00, -4.91970253e+00],\n",
              "       [-2.82289267e+00, -4.81193495e+00],\n",
              "       [ 2.15718460e+00,  4.46437645e+00],\n",
              "       [ 1.47994041e+01,  2.81896076e+01],\n",
              "       [-2.77330456e+01, -1.21600256e+01],\n",
              "       [-1.62503872e+01, -2.76483560e+00],\n",
              "       [-2.87344685e+01, -1.12879629e+01],\n",
              "       [ 1.55746479e+01,  2.69004765e+01],\n",
              "       [ 3.09686422e+00,  7.23820925e+00],\n",
              "       [ 1.57453928e+01,  2.55885983e+01],\n",
              "       [ 5.24247646e+00,  7.65123796e+00],\n",
              "       [ 2.87539444e+01,  2.56033592e+01],\n",
              "       [-2.46206017e+01, -1.19874668e+01],\n",
              "       [ 1.01297960e+01,  2.35454583e+00],\n",
              "       [ 1.40702820e+01,  2.35623097e+00],\n",
              "       [-6.51708555e+00, -8.78507042e+00],\n",
              "       [ 5.00034523e+00,  7.24978733e+00],\n",
              "       [-2.16977863e+01, -1.00679636e+01],\n",
              "       [-1.33194523e+01, -1.22669697e+01],\n",
              "       [-7.39524221e+00, -1.53448734e+01],\n",
              "       [-2.72520580e+01, -1.60603905e+01],\n",
              "       [ 9.65379906e+00,  1.74462569e+00],\n",
              "       [-6.19919157e+00, -1.16841927e+01],\n",
              "       [-2.92763233e+01, -1.23203650e+01],\n",
              "       [-1.75121059e+01, -7.96954489e+00],\n",
              "       [ 1.66681976e+01,  2.05838795e+01],\n",
              "       [-2.21089878e+01, -9.99192429e+00],\n",
              "       [-2.47868328e+01, -1.62733555e+01],\n",
              "       [ 2.48724251e+01,  2.85008945e+01],\n",
              "       [ 1.67540913e+01,  2.98343410e+01],\n",
              "       [-2.60541649e+01, -1.55592823e+01],\n",
              "       [ 9.38469410e+00,  1.49045622e+00],\n",
              "       [-1.18856077e+01, -1.21588697e+01],\n",
              "       [-4.87838745e+00, -1.12702579e+01],\n",
              "       [ 1.84555874e+01,  2.42005386e+01],\n",
              "       [-4.75672483e+00,  7.13691521e+00],\n",
              "       [ 1.24282894e+01,  1.08765697e+00],\n",
              "       [ 2.66300373e+01,  2.58657475e+01],\n",
              "       [-3.00090065e+01, -1.50258636e+01],\n",
              "       [-1.99675846e+01, -9.30580902e+00],\n",
              "       [ 2.30745220e+01,  2.93144226e+01],\n",
              "       [ 1.56911783e+01,  2.11128368e+01],\n",
              "       [ 8.52214909e+00,  2.10730057e+01],\n",
              "       [-1.55719376e+01, -1.28235769e+01],\n",
              "       [-1.59917421e+01, -3.25956511e+00],\n",
              "       [ 7.95029497e+00,  2.01766605e+01],\n",
              "       [ 2.90031834e+01,  2.80859680e+01],\n",
              "       [ 5.37789524e-01, -3.64155555e+00],\n",
              "       [-7.85887194e+00, -1.25284176e+01],\n",
              "       [-1.51426888e+00, -2.89691091e+00],\n",
              "       [-1.40354338e+01, -7.24285603e+00],\n",
              "       [-1.04230042e+01, -2.63914871e+00],\n",
              "       [ 1.64316616e+01,  2.11121120e+01],\n",
              "       [ 2.73684311e+01,  2.61105309e+01],\n",
              "       [-6.87682199e+00, -1.60061359e+01],\n",
              "       [-1.98804939e+00, -7.88406372e+00],\n",
              "       [ 3.14623737e+00,  3.26964378e+00],\n",
              "       [ 1.20216074e+01,  6.15797460e-01],\n",
              "       [-2.84760609e+01, -1.11150818e+01],\n",
              "       [-2.25701523e+00, -1.88444366e+01],\n",
              "       [-6.82869816e+00, -1.62943249e+01],\n",
              "       [ 1.34128883e-01, -3.85882664e+00],\n",
              "       [ 9.08610153e+00,  1.45604050e+00],\n",
              "       [-2.52014694e+01, -1.56297960e+01],\n",
              "       [-6.32842827e+00, -1.60191479e+01],\n",
              "       [ 1.99906616e+01,  3.03151703e+01],\n",
              "       [-7.64673948e+00, -4.04090214e+00],\n",
              "       [ 1.23696709e+01,  8.97089481e-01],\n",
              "       [-2.55492935e+01, -1.20156479e+01],\n",
              "       [ 2.92246265e+01,  2.75285320e+01],\n",
              "       [ 7.11750603e+00, -5.06018019e+00],\n",
              "       [ 1.89428558e+01,  3.11904640e+01],\n",
              "       [ 1.41546679e+01,  2.65301895e+01],\n",
              "       [ 1.21805887e+01,  3.25656354e-01],\n",
              "       [ 2.23700466e+01,  2.60020866e+01],\n",
              "       [-1.16435976e+01, -5.90651512e+00],\n",
              "       [ 1.21455336e+00, -7.06580353e+00],\n",
              "       [-2.68443089e+01, -1.33253260e+01],\n",
              "       [-3.09316158e+01, -1.08095636e+01],\n",
              "       [-8.83360672e+00, -9.94853020e+00],\n",
              "       [-2.00811710e+01, -1.07241840e+01],\n",
              "       [-8.16831493e+00, -1.48312607e+01],\n",
              "       [ 2.79149227e+01,  2.73492756e+01],\n",
              "       [ 3.92629290e+00,  5.44853497e+00],\n",
              "       [-1.67641716e+01, -1.29079514e+01],\n",
              "       [-5.27872753e+00, -6.54114151e+00],\n",
              "       [ 5.83903027e+00, -6.37181807e+00],\n",
              "       [ 2.71266913e+00,  4.10810995e+00],\n",
              "       [-1.35595393e+00,  9.20712376e+00],\n",
              "       [ 1.60284500e+01,  2.62920017e+01],\n",
              "       [-2.05925293e+01, -1.34700050e+01],\n",
              "       [-5.90512562e+00,  7.49729967e+00],\n",
              "       [-8.01139355e+00, -1.07550955e+01],\n",
              "       [-1.89343014e+01, -1.07900429e+01],\n",
              "       [-2.12085381e+01, -1.07647324e+01],\n",
              "       [ 1.73982220e+01,  2.67093849e+01],\n",
              "       [ 1.70819645e+01,  2.86301861e+01],\n",
              "       [-5.53532553e+00, -1.22355938e+01],\n",
              "       [-1.36691847e+01, -3.14230776e+00],\n",
              "       [ 1.89804325e+01,  2.80585842e+01],\n",
              "       [ 1.52792444e+01,  2.46492195e+01],\n",
              "       [-8.28738117e+00, -6.37336683e+00],\n",
              "       [-1.49721336e+01, -1.75728378e+01],\n",
              "       [-2.63023357e+01, -1.46863432e+01],\n",
              "       [ 2.94975986e+01,  2.68070412e+01],\n",
              "       [-1.03627720e+01, -9.98773098e+00],\n",
              "       [-2.93833275e+01, -1.30866375e+01],\n",
              "       [ 1.29320717e+01,  2.68503418e+01],\n",
              "       [ 5.74308252e+00, -4.67726326e+00],\n",
              "       [-6.21579742e+00, -1.56173859e+01],\n",
              "       [ 2.93698425e+01,  2.50183506e+01],\n",
              "       [-9.66965103e+00, -5.94509602e+00],\n",
              "       [ 2.66972885e+01,  2.52543182e+01],\n",
              "       [ 2.94393253e+00,  3.58906913e+00],\n",
              "       [-8.87685871e+00, -1.48033390e+01],\n",
              "       [-2.98903294e+01, -1.51768951e+01],\n",
              "       [-9.06499481e+00, -6.09517670e+00],\n",
              "       [-1.64279270e+01, -1.06289301e+01],\n",
              "       [-4.28057098e+00, -3.69767523e+00],\n",
              "       [ 8.93731499e+00, -8.86530781e+00],\n",
              "       [-3.83072567e+00, -1.83086090e+01],\n",
              "       [-8.96265602e+00, -4.31075430e+00],\n",
              "       [-2.85710468e+01, -1.40524626e+01],\n",
              "       [ 1.43742228e+01,  2.54051018e+01],\n",
              "       [ 7.72003698e+00, -8.49086857e+00],\n",
              "       [ 1.58446960e+01,  2.47807522e+01],\n",
              "       [-4.52755404e+00, -7.94930887e+00],\n",
              "       [-2.18121958e+00, -1.80736008e+01],\n",
              "       [-2.40334454e+01, -1.23949938e+01],\n",
              "       [-3.15869617e+00,  6.49298048e+00],\n",
              "       [ 2.87958393e+01,  2.63561554e+01],\n",
              "       [ 1.20763035e+01,  1.36762869e+00],\n",
              "       [-1.59790373e+01, -9.46676540e+00],\n",
              "       [ 1.14210253e+01,  4.46745604e-01],\n",
              "       [ 1.13794737e+01,  1.30679369e-01],\n",
              "       [ 1.46346779e+01,  2.10578327e+01],\n",
              "       [ 8.12288821e-01, -1.14501324e+01],\n",
              "       [-1.10176573e+01, -3.48642087e+00],\n",
              "       [ 1.72684860e+01,  2.20053654e+01],\n",
              "       [-1.93507271e+01, -1.31003237e+01],\n",
              "       [-2.74518032e+01, -1.18006277e+01],\n",
              "       [ 5.42838240e+00, -7.11871624e+00],\n",
              "       [ 2.82570767e+00,  7.39765882e+00],\n",
              "       [-2.98727627e+01, -1.47760868e+01],\n",
              "       [ 1.80601845e+01,  2.70192013e+01],\n",
              "       [ 1.71407051e+01,  2.08961163e+01],\n",
              "       [ 1.85365429e+01,  2.44491711e+01],\n",
              "       [-5.33417034e+00,  7.45107555e+00],\n",
              "       [-2.34069195e+01, -7.57675934e+00],\n",
              "       [ 1.65363922e+01,  2.84338379e+01],\n",
              "       [ 5.08406544e+00, -3.47157192e+00],\n",
              "       [-7.68448400e+00, -3.60126591e+00],\n",
              "       [-5.45775032e+00,  6.46280241e+00],\n",
              "       [-3.28626561e+00, -4.34549570e+00],\n",
              "       [-6.16233349e+00,  7.14654493e+00],\n",
              "       [-1.60903969e+01, -2.72902060e+00],\n",
              "       [ 1.48137112e+01,  2.36089973e+01],\n",
              "       [-1.87992783e+01, -6.43504286e+00],\n",
              "       [ 1.34236383e+00, -6.31086206e+00],\n",
              "       [ 1.57668390e+01,  2.25055695e+01],\n",
              "       [-2.32868633e+01, -8.82010651e+00],\n",
              "       [-2.05993309e+01, -1.34966106e+01],\n",
              "       [-6.33822107e+00,  6.79874563e+00],\n",
              "       [-2.63778896e+01, -1.31103249e+01],\n",
              "       [ 1.00278795e+00,  1.78910756e+00],\n",
              "       [-1.35578184e+01, -3.68287659e+00],\n",
              "       [-1.35116017e+00, -8.39815712e+00],\n",
              "       [ 1.68379593e+01,  2.64650784e+01],\n",
              "       [-2.49603653e+01, -1.00138187e+01],\n",
              "       [-2.32573247e+00, -6.39012289e+00],\n",
              "       [-1.57850456e+00, -1.85093651e+01],\n",
              "       [ 7.91994953e+00, -5.51314068e+00],\n",
              "       [-2.02882614e+01, -8.39458656e+00],\n",
              "       [ 1.70092487e+01,  2.81867828e+01],\n",
              "       [-7.36505985e+00, -9.50436020e+00],\n",
              "       [ 1.39266195e+01,  2.57305260e+01],\n",
              "       [ 1.32097845e+01,  2.61394835e+00],\n",
              "       [-4.81757593e+00, -3.66888690e+00],\n",
              "       [ 2.94413414e+01,  2.62198124e+01],\n",
              "       [-1.39695959e+01, -1.04174623e+01],\n",
              "       [-1.05494156e+01, -5.22833729e+00],\n",
              "       [ 8.47421169e+00, -9.09937763e+00],\n",
              "       [ 2.79125633e+01,  2.48222370e+01],\n",
              "       [-2.30239582e+00, -1.82097054e+01],\n",
              "       [ 2.53892117e+01,  2.82344666e+01],\n",
              "       [ 1.96316738e+01,  2.44610538e+01],\n",
              "       [-6.23422956e+00, -1.01168919e+01],\n",
              "       [-8.53807068e+00, -3.76970243e+00],\n",
              "       [ 1.71752796e+01,  2.39212570e+01],\n",
              "       [-2.10235958e+01, -7.95425844e+00],\n",
              "       [-1.62602539e+01, -7.79124308e+00],\n",
              "       [-2.05239654e+00, -1.86254616e+01],\n",
              "       [-1.92702541e+01, -1.09464884e+01],\n",
              "       [ 3.56147480e+00, -7.91252089e+00],\n",
              "       [-2.51431322e+00, -5.53828192e+00],\n",
              "       [-6.39780283e+00, -1.26236782e+01],\n",
              "       [ 1.90179062e+01,  3.01802979e+01],\n",
              "       [-1.48361464e+01, -1.71503868e+01],\n",
              "       [ 8.82426560e-01,  1.66401541e+00],\n",
              "       [-1.43797417e+01, -6.00134325e+00],\n",
              "       [ 1.04738820e+00, -5.49150324e+00],\n",
              "       [ 1.28759413e+01,  1.69860069e-02],\n",
              "       [-1.12139044e+01, -1.31462994e+01],\n",
              "       [ 1.60663643e+01,  2.21799812e+01],\n",
              "       [-3.48345900e+00, -5.94742823e+00],\n",
              "       [-2.15514126e+01, -7.99875975e+00],\n",
              "       [-2.41029415e+01, -1.61946507e+01],\n",
              "       [ 8.85013580e+00,  2.11515541e+01],\n",
              "       [-1.91291618e+01, -1.02620068e+01],\n",
              "       [ 1.44833994e+01,  2.41352406e+01],\n",
              "       [-4.85464239e+00, -9.01550770e+00],\n",
              "       [ 2.87805290e+01,  2.67376232e+01],\n",
              "       [-2.48716087e+01, -8.81562901e+00],\n",
              "       [ 4.42273903e+00, -4.42841053e+00],\n",
              "       [ 1.40603952e+01,  2.30978012e+01],\n",
              "       [-2.46643162e+01, -8.42492390e+00],\n",
              "       [ 2.25449371e+00,  3.32505631e+00],\n",
              "       [-1.78650417e+01, -7.60362005e+00],\n",
              "       [-3.50484085e+00, -2.47922611e+00],\n",
              "       [-2.39835300e+01, -1.11145573e+01],\n",
              "       [-4.57918739e+00, -7.98846626e+00],\n",
              "       [-1.95280056e+01, -6.00175858e+00],\n",
              "       [ 6.36805868e+00, -7.10576344e+00],\n",
              "       [-2.17238021e+00, -7.43813658e+00],\n",
              "       [ 1.51614246e+01,  2.38355026e+01],\n",
              "       [-3.62494612e+00,  7.44685793e+00],\n",
              "       [-1.52093792e+01, -1.72023964e+01],\n",
              "       [ 1.52026062e+01,  2.62078781e+01],\n",
              "       [-2.46398449e+01, -1.00831594e+01],\n",
              "       [ 1.83387108e+01,  2.99846020e+01],\n",
              "       [-1.55773668e+01, -3.11267829e+00],\n",
              "       [ 2.13009109e+01,  2.80815392e+01],\n",
              "       [-2.30570087e+01, -1.14889126e+01],\n",
              "       [-3.92073131e+00, -1.87809849e+01],\n",
              "       [-2.32540870e+00, -8.43442345e+00],\n",
              "       [ 4.48543644e+00,  6.94687939e+00],\n",
              "       [ 1.14096165e+01, -2.00331464e-01],\n",
              "       [ 4.07998848e+00,  6.35688496e+00],\n",
              "       [ 1.38501358e+01,  2.37565689e+01],\n",
              "       [-7.82999897e+00, -1.37634001e+01],\n",
              "       [ 8.70512772e+00,  2.05835285e+01],\n",
              "       [-7.42202902e+00, -8.20804024e+00],\n",
              "       [ 1.32207966e+01,  2.55520821e+01],\n",
              "       [-1.43965979e+01, -6.21389103e+00],\n",
              "       [ 1.08431518e+00, -8.08101273e+00],\n",
              "       [ 2.74260826e+01,  2.55114384e+01],\n",
              "       [ 9.27652073e+00,  1.46518362e+00],\n",
              "       [ 4.41071320e+00, -4.43715572e+00],\n",
              "       [ 8.31849480e+00, -7.28795290e+00],\n",
              "       [-2.44187336e+01, -8.90933800e+00],\n",
              "       [-1.21542063e+01, -4.58630991e+00],\n",
              "       [ 8.13145828e+00, -5.76387596e+00],\n",
              "       [-1.07432861e+01, -6.76788521e+00],\n",
              "       [-2.72033539e+01, -1.43651733e+01],\n",
              "       [ 2.96647205e+01,  2.58955994e+01],\n",
              "       [ 8.58687592e+00, -9.99808407e+00]], dtype=float32)"
            ]
          },
          "metadata": {},
          "execution_count": 81
        }
      ]
    },
    {
      "cell_type": "code",
      "source": [
        "plt.figure(figsize=(10, 8))\n",
        "\n",
        "plt.scatter(x_train_tsne[:, 0], x_train_tsne[:, 1])\n",
        "plt.title('Диаграмма рассеяния')\n",
        "\n",
        "plt.show()"
      ],
      "metadata": {
        "colab": {
          "base_uri": "https://localhost:8080/",
          "height": 499
        },
        "id": "t-6PdTO_8T_G",
        "outputId": "2dc5f640-f103-4f90-c375-e5105f825c29"
      },
      "execution_count": 82,
      "outputs": [
        {
          "output_type": "display_data",
          "data": {
            "text/plain": [
              "<Figure size 720x576 with 1 Axes>"
            ],
            "image/png": "[encoded data removed]"
          },
          "metadata": {
            "needs_background": "light"
          }
        }
      ]
    },
    {
      "cell_type": "markdown",
      "source": [
        "**Задание 2**\n",
        "\n",
        "С помощью KMeans разбейте данные из тренировочного набора на 3 кластера,\n",
        "используйте все признаки из датафрейма X_train.\n",
        "\n",
        "Параметр max_iter должен быть равен 100, random_state сделайте равным 42.\n",
        "\n",
        "Постройте еще раз диаграмму рассеяния на данных, полученных с помощью TSNE,\n",
        "и раскрасьте точки из разных кластеров разными цветами.\n",
        "\n",
        "Вычислите средние значения price и CRIM в разных кластерах.\n"
      ],
      "metadata": {
        "id": "mlaad9l88-1H"
      }
    },
    {
      "cell_type": "code",
      "source": [
        "kmeans = KMeans(n_clusters=3, max_iter=100, random_state=42)"
      ],
      "metadata": {
        "id": "Xst-bBqR8rlT"
      },
      "execution_count": 83,
      "outputs": []
    },
    {
      "cell_type": "code",
      "source": [
        "train_cluster = kmeans.fit_predict(x_train)"
      ],
      "metadata": {
        "id": "sdIezEQy9c_I"
      },
      "execution_count": 84,
      "outputs": []
    },
    {
      "cell_type": "code",
      "source": [
        "pd.value_counts(train_cluster)"
      ],
      "metadata": {
        "colab": {
          "base_uri": "https://localhost:8080/"
        },
        "id": "uicj_FJn9kp0",
        "outputId": "c6df35ce-e04d-48e6-ec3e-5027ca0217e3"
      },
      "execution_count": 85,
      "outputs": [
        {
          "output_type": "execute_result",
          "data": {
            "text/plain": [
              "2    191\n",
              "1    127\n",
              "0     86\n",
              "dtype: int64"
            ]
          },
          "metadata": {},
          "execution_count": 85
        }
      ]
    },
    {
      "cell_type": "code",
      "source": [
        "plt.figure(figsize=(10, 8))\n",
        "\n",
        "plt.scatter(x_train_tsne[:, 0], x_train_tsne[:, 1], c=train_cluster)\n",
        "plt.title('Диаграмма рассеяния')\n",
        "\n",
        "plt.show()"
      ],
      "metadata": {
        "colab": {
          "base_uri": "https://localhost:8080/",
          "height": 499
        },
        "id": "dhESIDdy9phM",
        "outputId": "9bb4aca1-9948-448e-9358-c11868b8bc1e"
      },
      "execution_count": 86,
      "outputs": [
        {
          "output_type": "display_data",
          "data": {
            "text/plain": [
              "<Figure size 720x576 with 1 Axes>"
            ],
            "image/png": "[encoded data removed]"
          },
          "metadata": {
            "needs_background": "light"
          }
        }
      ]
    },
    {
      "cell_type": "code",
      "source": [
        "x_train = scaler.inverse_transform(x_train)\n",
        "x_train = pd.DataFrame(x_train, columns=data.feature_names)"
      ],
      "metadata": {
        "id": "OUNI7a5c93eU"
      },
      "execution_count": 87,
      "outputs": []
    },
    {
      "cell_type": "code",
      "source": [
        "x_train.head()"
      ],
      "metadata": {
        "colab": {
          "base_uri": "https://localhost:8080/",
          "height": 270
        },
        "id": "XvBrqGcB_NFj",
        "outputId": "06297855-0707-4159-deb6-51e65f49e2cb"
      },
      "execution_count": 88,
      "outputs": [
        {
          "output_type": "execute_result",
          "data": {
            "text/plain": [
              "       CRIM            ZN  INDUS  CHAS     NOX     RM   AGE     DIS   RAD  \\\n",
              "0  15.02340  1.776357e-15  18.10   0.0  0.6140  5.304  97.3  2.1007  24.0   \n",
              "1   0.62739  1.776357e-15   8.14   0.0  0.5380  5.834  56.5  4.4986   4.0   \n",
              "2   0.03466  3.500000e+01   6.06   0.0  0.4379  6.031  23.3  6.6407   1.0   \n",
              "3   7.05042  1.776357e-15  18.10   0.0  0.6140  6.103  85.1  2.0218  24.0   \n",
              "4   0.72580  1.776357e-15   8.14   0.0  0.5380  5.727  69.5  3.7965   4.0   \n",
              "\n",
              "     TAX  PTRATIO       B  LSTAT  \n",
              "0  666.0     20.2  349.48  24.91  \n",
              "1  307.0     21.0  395.62   8.47  \n",
              "2  304.0     16.9  362.25   7.83  \n",
              "3  666.0     20.2    2.52  23.29  \n",
              "4  307.0     21.0  390.95  11.28  "
            ],
            "text/html": [
              "\n",
              "  <div id=\"df-50498f62-4775-4245-a802-53d93d010fc8\">\n",
              "    <div class=\"colab-df-container\">\n",
              "      <div>\n",
              "<style scoped>\n",
              "    .dataframe tbody tr th:only-of-type {\n",
              "        vertical-align: middle;\n",
              "    }\n",
              "\n",
              "    .dataframe tbody tr th {\n",
              "        vertical-align: top;\n",
              "    }\n",
              "\n",
              "    .dataframe thead th {\n",
              "        text-align: right;\n",
              "    }\n",
              "</style>\n",
              "<table border=\"1\" class=\"dataframe\">\n",
              "  <thead>\n",
              "    <tr style=\"text-align: right;\">\n",
              "      <th></th>\n",
              "      <th>CRIM</th>\n",
              "      <th>ZN</th>\n",
              "      <th>INDUS</th>\n",
              "      <th>CHAS</th>\n",
              "      <th>NOX</th>\n",
              "      <th>RM</th>\n",
              "      <th>AGE</th>\n",
              "      <th>DIS</th>\n",
              "      <th>RAD</th>\n",
              "      <th>TAX</th>\n",
              "      <th>PTRATIO</th>\n",
              "      <th>B</th>\n",
              "      <th>LSTAT</th>\n",
              "    </tr>\n",
              "  </thead>\n",
              "  <tbody>\n",
              "    <tr>\n",
              "      <th>0</th>\n",
              "      <td>15.02340</td>\n",
              "      <td>1.776357e-15</td>\n",
              "      <td>18.10</td>\n",
              "      <td>0.0</td>\n",
              "      <td>0.6140</td>\n",
              "      <td>5.304</td>\n",
              "      <td>97.3</td>\n",
              "      <td>2.1007</td>\n",
              "      <td>24.0</td>\n",
              "      <td>666.0</td>\n",
              "      <td>20.2</td>\n",
              "      <td>349.48</td>\n",
              "      <td>24.91</td>\n",
              "    </tr>\n",
              "    <tr>\n",
              "      <th>1</th>\n",
              "      <td>0.62739</td>\n",
              "      <td>1.776357e-15</td>\n",
              "      <td>8.14</td>\n",
              "      <td>0.0</td>\n",
              "      <td>0.5380</td>\n",
              "      <td>5.834</td>\n",
              "      <td>56.5</td>\n",
              "      <td>4.4986</td>\n",
              "      <td>4.0</td>\n",
              "      <td>307.0</td>\n",
              "      <td>21.0</td>\n",
              "      <td>395.62</td>\n",
              "      <td>8.47</td>\n",
              "    </tr>\n",
              "    <tr>\n",
              "      <th>2</th>\n",
              "      <td>0.03466</td>\n",
              "      <td>3.500000e+01</td>\n",
              "      <td>6.06</td>\n",
              "      <td>0.0</td>\n",
              "      <td>0.4379</td>\n",
              "      <td>6.031</td>\n",
              "      <td>23.3</td>\n",
              "      <td>6.6407</td>\n",
              "      <td>1.0</td>\n",
              "      <td>304.0</td>\n",
              "      <td>16.9</td>\n",
              "      <td>362.25</td>\n",
              "      <td>7.83</td>\n",
              "    </tr>\n",
              "    <tr>\n",
              "      <th>3</th>\n",
              "      <td>7.05042</td>\n",
              "      <td>1.776357e-15</td>\n",
              "      <td>18.10</td>\n",
              "      <td>0.0</td>\n",
              "      <td>0.6140</td>\n",
              "      <td>6.103</td>\n",
              "      <td>85.1</td>\n",
              "      <td>2.0218</td>\n",
              "      <td>24.0</td>\n",
              "      <td>666.0</td>\n",
              "      <td>20.2</td>\n",
              "      <td>2.52</td>\n",
              "      <td>23.29</td>\n",
              "    </tr>\n",
              "    <tr>\n",
              "      <th>4</th>\n",
              "      <td>0.72580</td>\n",
              "      <td>1.776357e-15</td>\n",
              "      <td>8.14</td>\n",
              "      <td>0.0</td>\n",
              "      <td>0.5380</td>\n",
              "      <td>5.727</td>\n",
              "      <td>69.5</td>\n",
              "      <td>3.7965</td>\n",
              "      <td>4.0</td>\n",
              "      <td>307.0</td>\n",
              "      <td>21.0</td>\n",
              "      <td>390.95</td>\n",
              "      <td>11.28</td>\n",
              "    </tr>\n",
              "  </tbody>\n",
              "</table>\n",
              "</div>\n",
              "      <button class=\"colab-df-convert\" onclick=\"convertToInteractive('df-50498f62-4775-4245-a802-53d93d010fc8')\"\n",
              "              title=\"Convert this dataframe to an interactive table.\"\n",
              "              style=\"display:none;\">\n",
              "        \n",
              "  <svg xmlns=\"http://www.w3.org/2000/svg\" height=\"24px\"viewBox=\"0 0 24 24\"\n",
              "       width=\"24px\">\n",
              "    <path d=\"M0 0h24v24H0V0z\" fill=\"none\"/>\n",
              "    <path d=\"M18.56 5.44l.94 2.06.94-2.06 2.06-.94-2.06-.94-.94-2.06-.94 2.06-2.06.94zm-11 1L8.5 8.5l.94-2.06 2.06-.94-2.06-.94L8.5 2.5l-.94 2.06-2.06.94zm10 10l.94 2.06.94-2.06 2.06-.94-2.06-.94-.94-2.06-.94 2.06-2.06.94z\"/><path d=\"M17.41 7.96l-1.37-1.37c-.4-.4-.92-.59-1.43-.59-.52 0-1.04.2-1.43.59L10.3 9.45l-7.72 7.72c-.78.78-.78 2.05 0 2.83L4 21.41c.39.39.9.59 1.41.59.51 0 1.02-.2 1.41-.59l7.78-7.78 2.81-2.81c.8-.78.8-2.07 0-2.86zM5.41 20L4 18.59l7.72-7.72 1.47 1.35L5.41 20z\"/>\n",
              "  </svg>\n",
              "      </button>\n",
              "      \n",
              "  <style>\n",
              "    .colab-df-container {\n",
              "      display:flex;\n",
              "      flex-wrap:wrap;\n",
              "      gap: 12px;\n",
              "    }\n",
              "\n",
              "    .colab-df-convert {\n",
              "      background-color: #E8F0FE;\n",
              "      border: none;\n",
              "      border-radius: 50%;\n",
              "      cursor: pointer;\n",
              "      display: none;\n",
              "      fill: #1967D2;\n",
              "      height: 32px;\n",
              "      padding: 0 0 0 0;\n",
              "      width: 32px;\n",
              "    }\n",
              "\n",
              "    .colab-df-convert:hover {\n",
              "      background-color: #E2EBFA;\n",
              "      box-shadow: 0px 1px 2px rgba(60, 64, 67, 0.3), 0px 1px 3px 1px rgba(60, 64, 67, 0.15);\n",
              "      fill: #174EA6;\n",
              "    }\n",
              "\n",
              "    [theme=dark] .colab-df-convert {\n",
              "      background-color: #3B4455;\n",
              "      fill: #D2E3FC;\n",
              "    }\n",
              "\n",
              "    [theme=dark] .colab-df-convert:hover {\n",
              "      background-color: #434B5C;\n",
              "      box-shadow: 0px 1px 3px 1px rgba(0, 0, 0, 0.15);\n",
              "      filter: drop-shadow(0px 1px 2px rgba(0, 0, 0, 0.3));\n",
              "      fill: #FFFFFF;\n",
              "    }\n",
              "  </style>\n",
              "\n",
              "      <script>\n",
              "        const buttonEl =\n",
              "          document.querySelector('#df-50498f62-4775-4245-a802-53d93d010fc8 button.colab-df-convert');\n",
              "        buttonEl.style.display =\n",
              "          google.colab.kernel.accessAllowed ? 'block' : 'none';\n",
              "\n",
              "        async function convertToInteractive(key) {\n",
              "          const element = document.querySelector('#df-50498f62-4775-4245-a802-53d93d010fc8');\n",
              "          const dataTable =\n",
              "            await google.colab.kernel.invokeFunction('convertToInteractive',\n",
              "                                                     [key], {});\n",
              "          if (!dataTable) return;\n",
              "\n",
              "          const docLinkHtml = 'Like what you see? Visit the ' +\n",
              "            '<a target=\"_blank\" href=https://colab.research.google.com/notebooks/data_table.ipynb>data table notebook</a>'\n",
              "            + ' to learn more about interactive tables.';\n",
              "          element.innerHTML = '';\n",
              "          dataTable['output_type'] = 'display_data';\n",
              "          await google.colab.output.renderOutput(dataTable, element);\n",
              "          const docLink = document.createElement('div');\n",
              "          docLink.innerHTML = docLinkHtml;\n",
              "          element.appendChild(docLink);\n",
              "        }\n",
              "      </script>\n",
              "    </div>\n",
              "  </div>\n",
              "  "
            ]
          },
          "metadata": {},
          "execution_count": 88
        }
      ]
    },
    {
      "cell_type": "code",
      "source": [
        "y_train[train_cluster==0].mean()"
      ],
      "metadata": {
        "colab": {
          "base_uri": "https://localhost:8080/"
        },
        "id": "3dhnwn17_4z_",
        "outputId": "2c1463fb-9b19-4911-bc04-6099bd7a3b4e"
      },
      "execution_count": 89,
      "outputs": [
        {
          "output_type": "execute_result",
          "data": {
            "text/plain": [
              "27.78837209302326"
            ]
          },
          "metadata": {},
          "execution_count": 89
        }
      ]
    },
    {
      "cell_type": "code",
      "source": [
        "y_train[train_cluster==1].mean()"
      ],
      "metadata": {
        "colab": {
          "base_uri": "https://localhost:8080/"
        },
        "id": "Ll1brQbXCiK8",
        "outputId": "c9e00574-ae10-4a51-d858-a8a9fe127d10"
      },
      "execution_count": 90,
      "outputs": [
        {
          "output_type": "execute_result",
          "data": {
            "text/plain": [
              "16.165354330708663"
            ]
          },
          "metadata": {},
          "execution_count": 90
        }
      ]
    },
    {
      "cell_type": "code",
      "source": [
        "y_train[train_cluster==2].mean()"
      ],
      "metadata": {
        "colab": {
          "base_uri": "https://localhost:8080/"
        },
        "id": "O0Q3XjhHAg0A",
        "outputId": "b0593ff5-0f99-4f71-a9b3-0e9ce52ab46b"
      },
      "execution_count": 91,
      "outputs": [
        {
          "output_type": "execute_result",
          "data": {
            "text/plain": [
              "24.958115183246072"
            ]
          },
          "metadata": {},
          "execution_count": 91
        }
      ]
    },
    {
      "cell_type": "code",
      "source": [
        "x_train.loc[train_cluster==0, 'CRIM'].mean()"
      ],
      "metadata": {
        "colab": {
          "base_uri": "https://localhost:8080/"
        },
        "id": "bg-nYqACCnyt",
        "outputId": "44eb7000-80e7-4a81-fce7-15a824404eb2"
      },
      "execution_count": 92,
      "outputs": [
        {
          "output_type": "execute_result",
          "data": {
            "text/plain": [
              "0.07356558139534881"
            ]
          },
          "metadata": {},
          "execution_count": 92
        }
      ]
    },
    {
      "cell_type": "code",
      "source": [
        "x_train.loc[train_cluster==1, 'CRIM'].mean()"
      ],
      "metadata": {
        "colab": {
          "base_uri": "https://localhost:8080/"
        },
        "id": "YitWjCqlFHu3",
        "outputId": "5603d6b5-44ea-42ec-aa57-4a4c99c5e3f7"
      },
      "execution_count": 93,
      "outputs": [
        {
          "output_type": "execute_result",
          "data": {
            "text/plain": [
              "10.797028425196851"
            ]
          },
          "metadata": {},
          "execution_count": 93
        }
      ]
    },
    {
      "cell_type": "code",
      "source": [
        "x_train.loc[train_cluster==2, 'CRIM'].mean()"
      ],
      "metadata": {
        "colab": {
          "base_uri": "https://localhost:8080/"
        },
        "id": "TyiUJpXjFlyg",
        "outputId": "8da04d74-78ea-4988-9fc5-33103b146f3c"
      },
      "execution_count": 94,
      "outputs": [
        {
          "output_type": "execute_result",
          "data": {
            "text/plain": [
              "0.42166020942408383"
            ]
          },
          "metadata": {},
          "execution_count": 94
        }
      ]
    },
    {
      "cell_type": "markdown",
      "source": [
        "**Задание 3**\n",
        "\n",
        "Примените модель KMeans, построенную в предыдущем задании,\n",
        "к данным из тестового набора.\n",
        "\n",
        "Вычислите средние значения price и CRIM в разных кластерах на тестовых данных.\n"
      ],
      "metadata": {
        "id": "UD9VAd_RFtLh"
      }
    },
    {
      "cell_type": "code",
      "source": [
        "test_cluster = kmeans.predict(x_test)\n",
        "test_cluster"
      ],
      "metadata": {
        "colab": {
          "base_uri": "https://localhost:8080/"
        },
        "id": "Z7fr4LLiFnYh",
        "outputId": "b08b745a-b270-4892-ecf6-62b32e111818"
      },
      "execution_count": 95,
      "outputs": [
        {
          "output_type": "execute_result",
          "data": {
            "text/plain": [
              "array([2, 0, 1, 2, 1, 2, 2, 1, 1, 2, 2, 2, 1, 2, 2, 1, 2, 1, 0, 1, 0, 0,\n",
              "       2, 2, 1, 1, 2, 1, 2, 2, 2, 2, 1, 1, 1, 1, 2, 2, 2, 2, 2, 2, 0, 2,\n",
              "       2, 1, 2, 2, 1, 2, 2, 0, 2, 2, 2, 1, 1, 0, 2, 2, 0, 0, 2, 2, 0, 2,\n",
              "       1, 0, 0, 1, 2, 1, 1, 0, 2, 1, 2, 0, 1, 1, 0, 1, 0, 1, 2, 2, 1, 2,\n",
              "       2, 2, 2, 1, 2, 2, 1, 2, 1, 1, 1, 1, 2, 2], dtype=int32)"
            ]
          },
          "metadata": {},
          "execution_count": 95
        }
      ]
    },
    {
      "cell_type": "code",
      "source": [
        "x_test = scaler.inverse_transform(x_test)\n",
        "x_test = pd.DataFrame(x_test, columns=data.feature_names)"
      ],
      "metadata": {
        "id": "yxiiFvDcHocJ"
      },
      "execution_count": 99,
      "outputs": []
    },
    {
      "cell_type": "code",
      "source": [
        "y_test[test_cluster==0].mean()"
      ],
      "metadata": {
        "colab": {
          "base_uri": "https://localhost:8080/"
        },
        "id": "jrE_hHC0Gehk",
        "outputId": "9458a401-db79-4311-e1f3-8c96ba9fd363"
      },
      "execution_count": 96,
      "outputs": [
        {
          "output_type": "execute_result",
          "data": {
            "text/plain": [
              "31.35"
            ]
          },
          "metadata": {},
          "execution_count": 96
        }
      ]
    },
    {
      "cell_type": "code",
      "source": [
        "y_test[test_cluster==1].mean()"
      ],
      "metadata": {
        "colab": {
          "base_uri": "https://localhost:8080/"
        },
        "id": "3RjkFsCnHYIv",
        "outputId": "9e75ad53-bd23-417a-c11a-c80a4dd71121"
      },
      "execution_count": 97,
      "outputs": [
        {
          "output_type": "execute_result",
          "data": {
            "text/plain": [
              "16.43714285714286"
            ]
          },
          "metadata": {},
          "execution_count": 97
        }
      ]
    },
    {
      "cell_type": "code",
      "source": [
        "y_test[test_cluster==2].mean()"
      ],
      "metadata": {
        "colab": {
          "base_uri": "https://localhost:8080/"
        },
        "id": "k2WRbzAVHczK",
        "outputId": "d98719d6-109c-49e2-eac4-018c7c248851"
      },
      "execution_count": 98,
      "outputs": [
        {
          "output_type": "execute_result",
          "data": {
            "text/plain": [
              "21.860784313725492"
            ]
          },
          "metadata": {},
          "execution_count": 98
        }
      ]
    },
    {
      "cell_type": "code",
      "source": [
        "x_test.loc[test_cluster==0, 'CRIM'].mean()"
      ],
      "metadata": {
        "colab": {
          "base_uri": "https://localhost:8080/"
        },
        "id": "qsE8co09Heoz",
        "outputId": "73791f8e-8f08-4618-c66d-a9c79b088a5f"
      },
      "execution_count": 100,
      "outputs": [
        {
          "output_type": "execute_result",
          "data": {
            "text/plain": [
              "0.06206000000000003"
            ]
          },
          "metadata": {},
          "execution_count": 100
        }
      ]
    },
    {
      "cell_type": "code",
      "source": [
        "x_test.loc[test_cluster==1, 'CRIM'].mean()"
      ],
      "metadata": {
        "colab": {
          "base_uri": "https://localhost:8080/"
        },
        "id": "lkw30EsgH104",
        "outputId": "aed90d0f-09c9-40ee-e4db-6ca4e77bdce4"
      },
      "execution_count": 101,
      "outputs": [
        {
          "output_type": "execute_result",
          "data": {
            "text/plain": [
              "10.165531142857143"
            ]
          },
          "metadata": {},
          "execution_count": 101
        }
      ]
    },
    {
      "cell_type": "code",
      "source": [
        "x_test.loc[test_cluster==2, 'CRIM'].mean()"
      ],
      "metadata": {
        "colab": {
          "base_uri": "https://localhost:8080/"
        },
        "id": "S60hzNSWH4-1",
        "outputId": "fae510ea-d1b7-4af4-c46b-ab51f6356e93"
      },
      "execution_count": 102,
      "outputs": [
        {
          "output_type": "execute_result",
          "data": {
            "text/plain": [
              "0.2660788235294117"
            ]
          },
          "metadata": {},
          "execution_count": 102
        }
      ]
    },
    {
      "cell_type": "code",
      "source": [],
      "metadata": {
        "id": "6OS8V2OHH6ii"
      },
      "execution_count": null,
      "outputs": []
    }
  ]
}